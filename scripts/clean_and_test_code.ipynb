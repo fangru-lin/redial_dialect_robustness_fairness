{
 "cells": [
  {
   "cell_type": "markdown",
   "metadata": {},
   "source": [
    "# sanitize"
   ]
  },
  {
   "cell_type": "code",
   "execution_count": 2,
   "metadata": {},
   "outputs": [],
   "source": [
    "from evalplus.data import write_jsonl\n",
    "import json\n",
    "import os\n",
    "mbpp_plus_task_ids = json.load(open('../redial/redial_gold/mbpp_plus_task_ids.json', 'r'))\n"
   ]
  },
  {
   "cell_type": "code",
   "execution_count": 3,
   "metadata": {},
   "outputs": [],
   "source": [
    "def add_dummy_task_ids(eval_path,\n",
    "                       mbpp_plus_task_ids):\n",
    "    with open(eval_path, 'r') as f:\n",
    "        to_eval = [json.loads(l) for l in f]\n",
    "    to_eval_task_ids = set([problem['task_id'] for problem in to_eval])\n",
    "    for task_id in mbpp_plus_task_ids:\n",
    "        if task_id not in to_eval_task_ids:\n",
    "            to_eval.append({'task_id':task_id, 'solution':''})\n",
    "\n",
    "    # write back to the file\n",
    "    write_jsonl(eval_path, to_eval)\n",
    "\n",
    "\n",
    "def sanitize_files(alg_dir,\n",
    "                   mbpp_plus_task_ids):\n",
    "    par_dirs = os.listdir(alg_dir)\n",
    "    for parent_directory in par_dirs:\n",
    "        for child_dir in os.listdir(os.path.join(alg_dir, parent_directory)):\n",
    "            child_dir_path = os.path.join(alg_dir, parent_directory, child_dir)\n",
    "            if os.path.isdir(child_dir_path):\n",
    "                print(f'Processing directory: {child_dir_path}')\n",
    "                # Iterate through all files in the child directory\n",
    "                for temp_dir in os.listdir(child_dir_path):\n",
    "                    temp_dir_path = os.path.join(child_dir_path, temp_dir)\n",
    "                    if os.path.isdir(temp_dir_path):\n",
    "                        for file in os.listdir(temp_dir_path):\n",
    "                            file_path = os.path.join(temp_dir_path, file)\n",
    "                            # Check if the file ends with '_new.jsonl'\n",
    "                            if os.path.isfile(file_path) and 'to_eval' in file and 'sanitized' not in file:\n",
    "                                if file_path.replace('.jsonl', '-sanitized.jsonl') in os.listdir(temp_dir_path):\n",
    "                                    continue\n",
    "                                # phi output unparsed format is weird so skip it\n",
    "                                if 'phi' in file_path and 'unparsed' in file_path:\n",
    "                                    continue\n",
    "                                # Execute the command\n",
    "                                if 'mbpp' in file_path:\n",
    "                                    # read jsonl\n",
    "                                    with open(file_path, 'r') as f:\n",
    "                                        if len([json.loads(l) for l in f]) != 150:\n",
    "                                            continue\n",
    "                                else:\n",
    "                                    with open(file_path, 'r') as f:\n",
    "                                        if len([json.loads(l) for l in f]) != 164:\n",
    "                                            continue\n",
    "                                # continue if the sanitized file already exists\n",
    "                                if os.path.exists(file_path.replace('.jsonl', '-sanitized.jsonl')):\n",
    "                                    continue\n",
    "                                os.system(f'evalplus.sanitize --samples \"{file_path}\"')\n",
    "                                if 'mbpp' in file_path:\n",
    "                                    add_dummy_task_ids(file_path.replace('.jsonl', '-sanitized.jsonl'), mbpp_plus_task_ids)    "
   ]
  },
  {
   "cell_type": "markdown",
   "metadata": {},
   "source": [
    "# test"
   ]
  },
  {
   "cell_type": "code",
   "execution_count": 5,
   "metadata": {},
   "outputs": [],
   "source": [
    "import os\n",
    "import subprocess\n",
    "import concurrent.futures\n",
    "\n",
    "def run_subprocess(file, child_dir_path):\n",
    "    # try:\n",
    "        # if os.path.isfile(file) and '-sanitized' in file:\n",
    "    if 'humaneval' in file:\n",
    "        data_name = 'humaneval'\n",
    "    else:\n",
    "        data_name = 'mbpp'\n",
    "\n",
    "    unix_child_dir_path = os.path.abspath(child_dir_path).replace('\\\\', '/')\n",
    "    result = subprocess.run(\n",
    "        ['docker', 'run', '-v', f'{unix_child_dir_path}:/app', 'ganler/evalplus:latest', '--dataset', data_name, '--samples', file],\n",
    "        capture_output=True,\n",
    "        text=True\n",
    "    )\n",
    "    # Print the captured output\n",
    "    print(result.stdout)\n",
    "    if result.stderr:\n",
    "        print(result.stderr)\n",
    "def test_code(alg_dir,\n",
    "              max_workers=10):\n",
    "    par_dirs = os.listdir(alg_dir)\n",
    "    with concurrent.futures.ThreadPoolExecutor(max_workers=max_workers) as executor:\n",
    "        futures = []\n",
    "        for parent_directory in par_dirs:\n",
    "            for child_dir in os.listdir(os.path.join(alg_dir, parent_directory)):\n",
    "                child_dir_path = os.path.join(alg_dir, parent_directory, child_dir)\n",
    "                if os.path.isdir(child_dir_path):\n",
    "                    print(f'Processing directory: {child_dir_path}')\n",
    "                    # Iterate through all files in the child directory\n",
    "                    for temp_dir in os.listdir(child_dir_path):\n",
    "                        file_path = os.path.join(child_dir_path, temp_dir)\n",
    "                        if os.path.isdir(file_path):\n",
    "                            for file in os.listdir(file_path):\n",
    "                                f_path = os.path.join(file_path, file)\n",
    "                                if os.path.isfile(f_path) and '-sanitized' in file and 'eval_results' not in file and file.replace('-sanitized.jsonl', '-sanitized_eval_results.json') not in os.listdir(file_path):\n",
    "                                    future = executor.submit(run_subprocess, file, file_path)\n",
    "                                    futures.append(future)\n",
    "                                    # Wait for the subprocess to complete before clearing the Docker cache\n",
    "                                    future.add_done_callback(lambda fut: executor.submit(subprocess.run, ['docker', 'system', 'prune', '-f'], capture_output=True, text=True))\n",
    "        for future in concurrent.futures.as_completed(futures):\n",
    "            future.result()  # To raise any exceptions that occurred"
   ]
  },
  {
   "cell_type": "markdown",
   "metadata": {},
   "source": [
    "# sanitize and test"
   ]
  },
  {
   "cell_type": "code",
   "execution_count": 6,
   "metadata": {},
   "outputs": [],
   "source": [
    "def sanitize_and_test(alg_dir, mbpp_plus_task_ids=mbpp_plus_task_ids, max_workers=10):\n",
    "    sanitize_files(alg_dir, mbpp_plus_task_ids)\n",
    "    test_code(alg_dir, max_workers=max_workers)"
   ]
  },
  {
   "cell_type": "markdown",
   "metadata": {},
   "source": [
    "put your evaluation directory here"
   ]
  },
  {
   "cell_type": "code",
   "execution_count": null,
   "metadata": {},
   "outputs": [],
   "source": [
    "sanitize_and_test('eval_dir')"
   ]
  }
 ],
 "metadata": {
  "kernelspec": {
   "display_name": "jem",
   "language": "python",
   "name": "python3"
  },
  "language_info": {
   "codemirror_mode": {
    "name": "ipython",
    "version": 3
   },
   "file_extension": ".py",
   "mimetype": "text/x-python",
   "name": "python",
   "nbconvert_exporter": "python",
   "pygments_lexer": "ipython3",
   "version": "3.12.3"
  }
 },
 "nbformat": 4,
 "nbformat_minor": 2
}
